{
 "cells": [
  {
   "cell_type": "markdown",
   "metadata": {},
   "source": [
    "# 1. INTRODUCTION\n",
    "Case study:\n",
    "The ab_data.csv data contain the results of an A/B test run by an e-commerce website. We need to check that based on the data, whether the company should implement the new page, keep the old page, or perhaps run the experiment longer to make their decision."
   ]
  },
  {
   "cell_type": "markdown",
   "metadata": {},
   "source": [
    "# 2. EXPLORATORY DATA ANALYSIS"
   ]
  },
  {
   "cell_type": "markdown",
   "metadata": {},
   "source": [
    "## 2.1. OVERVIEW ABOUT THE DATA"
   ]
  },
  {
   "cell_type": "code",
   "execution_count": 1,
   "metadata": {},
   "outputs": [
    {
     "name": "stderr",
     "output_type": "stream",
     "text": [
      "Matplotlib is building the font cache; this may take a moment.\n"
     ]
    }
   ],
   "source": [
    "### Import neccessary packages\n",
    "import pandas as pd\n",
    "import seaborn as sns\n",
    "import numpy as np\n",
    "import random\n",
    "import matplotlib.pyplot as plt\n"
   ]
  },
  {
   "cell_type": "code",
   "execution_count": 2,
   "metadata": {},
   "outputs": [],
   "source": [
    "%matplotlib inline\n"
   ]
  },
  {
   "cell_type": "code",
   "execution_count": 9,
   "metadata": {},
   "outputs": [
    {
     "name": "stdout",
     "output_type": "stream",
     "text": [
      "(294478, 5)\n"
     ]
    },
    {
     "data": {
      "text/html": [
       "<div>\n",
       "<style scoped>\n",
       "    .dataframe tbody tr th:only-of-type {\n",
       "        vertical-align: middle;\n",
       "    }\n",
       "\n",
       "    .dataframe tbody tr th {\n",
       "        vertical-align: top;\n",
       "    }\n",
       "\n",
       "    .dataframe thead th {\n",
       "        text-align: right;\n",
       "    }\n",
       "</style>\n",
       "<table border=\"1\" class=\"dataframe\">\n",
       "  <thead>\n",
       "    <tr style=\"text-align: right;\">\n",
       "      <th></th>\n",
       "      <th>user_id</th>\n",
       "      <th>timestamp</th>\n",
       "      <th>group</th>\n",
       "      <th>landing_page</th>\n",
       "      <th>converted</th>\n",
       "    </tr>\n",
       "  </thead>\n",
       "  <tbody>\n",
       "    <tr>\n",
       "      <th>0</th>\n",
       "      <td>851104</td>\n",
       "      <td>2017-01-21 22:11:48.556739</td>\n",
       "      <td>control</td>\n",
       "      <td>old_page</td>\n",
       "      <td>0</td>\n",
       "    </tr>\n",
       "    <tr>\n",
       "      <th>1</th>\n",
       "      <td>804228</td>\n",
       "      <td>2017-01-12 08:01:45.159739</td>\n",
       "      <td>control</td>\n",
       "      <td>old_page</td>\n",
       "      <td>0</td>\n",
       "    </tr>\n",
       "    <tr>\n",
       "      <th>2</th>\n",
       "      <td>661590</td>\n",
       "      <td>2017-01-11 16:55:06.154213</td>\n",
       "      <td>treatment</td>\n",
       "      <td>new_page</td>\n",
       "      <td>0</td>\n",
       "    </tr>\n",
       "    <tr>\n",
       "      <th>3</th>\n",
       "      <td>853541</td>\n",
       "      <td>2017-01-08 18:28:03.143765</td>\n",
       "      <td>treatment</td>\n",
       "      <td>new_page</td>\n",
       "      <td>0</td>\n",
       "    </tr>\n",
       "    <tr>\n",
       "      <th>4</th>\n",
       "      <td>864975</td>\n",
       "      <td>2017-01-21 01:52:26.210827</td>\n",
       "      <td>control</td>\n",
       "      <td>old_page</td>\n",
       "      <td>1</td>\n",
       "    </tr>\n",
       "  </tbody>\n",
       "</table>\n",
       "</div>"
      ],
      "text/plain": [
       "   user_id                   timestamp      group landing_page  converted\n",
       "0   851104  2017-01-21 22:11:48.556739    control     old_page          0\n",
       "1   804228  2017-01-12 08:01:45.159739    control     old_page          0\n",
       "2   661590  2017-01-11 16:55:06.154213  treatment     new_page          0\n",
       "3   853541  2017-01-08 18:28:03.143765  treatment     new_page          0\n",
       "4   864975  2017-01-21 01:52:26.210827    control     old_page          1"
      ]
     },
     "execution_count": 9,
     "metadata": {},
     "output_type": "execute_result"
    }
   ],
   "source": [
    "data_df = pd.read_csv('ab_data.csv', header = 0)\n",
    "print(data_df.shape)\n",
    "data_df.head(5)"
   ]
  },
  {
   "cell_type": "code",
   "execution_count": 10,
   "metadata": {},
   "outputs": [
    {
     "name": "stdout",
     "output_type": "stream",
     "text": [
      "2017-01-02 13:42:05.378582 2017-01-24 13:41:54.460509\n"
     ]
    }
   ],
   "source": [
    "print(min(data_df.timestamp), max(data_df.timestamp))"
   ]
  },
  {
   "cell_type": "code",
   "execution_count": 11,
   "metadata": {},
   "outputs": [
    {
     "data": {
      "text/html": [
       "<div>\n",
       "<style scoped>\n",
       "    .dataframe tbody tr th:only-of-type {\n",
       "        vertical-align: middle;\n",
       "    }\n",
       "\n",
       "    .dataframe tbody tr th {\n",
       "        vertical-align: top;\n",
       "    }\n",
       "\n",
       "    .dataframe thead th {\n",
       "        text-align: right;\n",
       "    }\n",
       "</style>\n",
       "<table border=\"1\" class=\"dataframe\">\n",
       "  <thead>\n",
       "    <tr style=\"text-align: right;\">\n",
       "      <th></th>\n",
       "      <th>user_id</th>\n",
       "      <th>converted</th>\n",
       "    </tr>\n",
       "  </thead>\n",
       "  <tbody>\n",
       "    <tr>\n",
       "      <th>count</th>\n",
       "      <td>294478.000000</td>\n",
       "      <td>294478.000000</td>\n",
       "    </tr>\n",
       "    <tr>\n",
       "      <th>mean</th>\n",
       "      <td>787974.124733</td>\n",
       "      <td>0.119659</td>\n",
       "    </tr>\n",
       "    <tr>\n",
       "      <th>std</th>\n",
       "      <td>91210.823776</td>\n",
       "      <td>0.324563</td>\n",
       "    </tr>\n",
       "    <tr>\n",
       "      <th>min</th>\n",
       "      <td>630000.000000</td>\n",
       "      <td>0.000000</td>\n",
       "    </tr>\n",
       "    <tr>\n",
       "      <th>25%</th>\n",
       "      <td>709032.250000</td>\n",
       "      <td>0.000000</td>\n",
       "    </tr>\n",
       "    <tr>\n",
       "      <th>50%</th>\n",
       "      <td>787933.500000</td>\n",
       "      <td>0.000000</td>\n",
       "    </tr>\n",
       "    <tr>\n",
       "      <th>75%</th>\n",
       "      <td>866911.750000</td>\n",
       "      <td>0.000000</td>\n",
       "    </tr>\n",
       "    <tr>\n",
       "      <th>max</th>\n",
       "      <td>945999.000000</td>\n",
       "      <td>1.000000</td>\n",
       "    </tr>\n",
       "  </tbody>\n",
       "</table>\n",
       "</div>"
      ],
      "text/plain": [
       "             user_id      converted\n",
       "count  294478.000000  294478.000000\n",
       "mean   787974.124733       0.119659\n",
       "std     91210.823776       0.324563\n",
       "min    630000.000000       0.000000\n",
       "25%    709032.250000       0.000000\n",
       "50%    787933.500000       0.000000\n",
       "75%    866911.750000       0.000000\n",
       "max    945999.000000       1.000000"
      ]
     },
     "execution_count": 11,
     "metadata": {},
     "output_type": "execute_result"
    }
   ],
   "source": [
    "data_df.describe()"
   ]
  },
  {
   "cell_type": "markdown",
   "metadata": {},
   "source": [
    "### Missing values - Unique - Duplicate"
   ]
  },
  {
   "cell_type": "code",
   "execution_count": 12,
   "metadata": {},
   "outputs": [
    {
     "data": {
      "text/plain": [
       "user_id         0\n",
       "timestamp       0\n",
       "group           0\n",
       "landing_page    0\n",
       "converted       0\n",
       "dtype: int64"
      ]
     },
     "execution_count": 12,
     "metadata": {},
     "output_type": "execute_result"
    }
   ],
   "source": [
    "data_df.isnull().sum()\n",
    "# => There is no missing value"
   ]
  },
  {
   "cell_type": "code",
   "execution_count": 13,
   "metadata": {},
   "outputs": [
    {
     "data": {
      "text/plain": [
       "290584"
      ]
     },
     "execution_count": 13,
     "metadata": {},
     "output_type": "execute_result"
    }
   ],
   "source": [
    "### Number of unique user\n",
    "data_df['user_id'].nunique()"
   ]
  },
  {
   "cell_type": "code",
   "execution_count": 14,
   "metadata": {},
   "outputs": [
    {
     "data": {
      "text/plain": [
       "805339    2\n",
       "754884    2\n",
       "722274    2\n",
       "783176    2\n",
       "898232    2\n",
       "         ..\n",
       "642985    1\n",
       "771499    1\n",
       "923606    1\n",
       "712675    1\n",
       "715931    1\n",
       "Name: user_id, Length: 290584, dtype: int64"
      ]
     },
     "execution_count": 14,
     "metadata": {},
     "output_type": "execute_result"
    }
   ],
   "source": [
    "### Duplicate in user_id\n",
    "data_df.user_id.value_counts()"
   ]
  },
  {
   "cell_type": "code",
   "execution_count": 15,
   "metadata": {},
   "outputs": [
    {
     "data": {
      "text/plain": [
       "3894"
      ]
     },
     "execution_count": 15,
     "metadata": {},
     "output_type": "execute_result"
    }
   ],
   "source": [
    "### Number of users that are duplicated \n",
    "sum(data_df.user_id.value_counts().values > 1)"
   ]
  },
  {
   "cell_type": "markdown",
   "metadata": {},
   "source": [
    "### Check Class Balance (number of observations in each treatment group)"
   ]
  },
  {
   "cell_type": "code",
   "execution_count": 16,
   "metadata": {},
   "outputs": [
    {
     "data": {
      "text/plain": [
       "treatment    147276\n",
       "control      147202\n",
       "Name: group, dtype: int64"
      ]
     },
     "execution_count": 16,
     "metadata": {},
     "output_type": "execute_result"
    }
   ],
   "source": [
    "### Ratio between treatment and control\n",
    "data_df.group.value_counts()"
   ]
  },
  {
   "cell_type": "code",
   "execution_count": 17,
   "metadata": {},
   "outputs": [
    {
     "data": {
      "text/plain": [
       "0    259241\n",
       "1     35237\n",
       "Name: converted, dtype: int64"
      ]
     },
     "execution_count": 17,
     "metadata": {},
     "output_type": "execute_result"
    }
   ],
   "source": [
    "### Ratio of converted\n",
    "data_df.converted.value_counts()"
   ]
  },
  {
   "cell_type": "code",
   "execution_count": 18,
   "metadata": {},
   "outputs": [
    {
     "data": {
      "image/png": "[encoded data removed]",
      "text/plain": [
       "<Figure size 432x288 with 1 Axes>"
      ]
     },
     "metadata": {
      "needs_background": "light"
     },
     "output_type": "display_data"
    }
   ],
   "source": [
    "#### Plot the distribution\n",
    "fig = sns.countplot(data = data_df, x = 'group', hue = 'converted')\n",
    "### Adding label:\n",
    "for p in fig.patches:\n",
    "    if str(p.get_height()) != 'nan':\n",
    "        fig.text(p.get_x() + 0.08,  \n",
    "                 p.get_height() * 1.02, \n",
    "                 '{}'.format(p.get_height()),\n",
    "                size = 'large')\n",
    "plt.legend(loc = 'upper right')\n",
    "plt.ylim([0, data_df.query('group == \"control\"').shape[0]*1.1])\n",
    "plt.title('Distribution of converted result based on group')\n",
    "plt.show()"
   ]
  },
  {
   "cell_type": "markdown",
   "metadata": {},
   "source": [
    "## 2.2. SANITY CHECK"
   ]
  },
  {
   "cell_type": "markdown",
   "metadata": {},
   "source": [
    "### 2.2.1. CLEAN UP DUPLICATE AND WRONG ASSIGNMENTS\n",
    "\n",
    "PROBLEMS:\n",
    "Control is the old page. Treatment is the new page. But there are some wrong assignments that should be removed.\n",
    "\n",
    "The number of unique user is smaller than the rows => duplicated users => remove"
   ]
  },
  {
   "cell_type": "code",
   "execution_count": 19,
   "metadata": {},
   "outputs": [
    {
     "data": {
      "image/png": "[encoded data removed]",
      "text/plain": [
       "<Figure size 432x288 with 1 Axes>"
      ]
     },
     "metadata": {
      "needs_background": "light"
     },
     "output_type": "display_data"
    }
   ],
   "source": [
    "fig = sns.countplot(data = data_df, x = 'group', hue = 'landing_page')\n",
    "### Adding label:\n",
    "for p in fig.patches:\n",
    "    if str(p.get_height()) != 'nan':\n",
    "        fig.text(p.get_x() + 0.08,  \n",
    "                 p.get_height() * 1.02, \n",
    "                 '{}'.format(p.get_height()),\n",
    "                size = 'large')\n",
    "        \n",
    "plt.legend(loc = 'upper center')\n",
    "plt.title('Distribution of group and landing page')\n",
    "plt.ylim([0, data_df.query('group == \"control\"').shape[0]*1.1])\n",
    "\n",
    "plt.show()"
   ]
  },
  {
   "cell_type": "markdown",
   "metadata": {},
   "source": [
    "#### CLEAN UP THE DATA"
   ]
  },
  {
   "cell_type": "code",
   "execution_count": 20,
   "metadata": {},
   "outputs": [
    {
     "data": {
      "text/plain": [
       "(290585, 5)"
      ]
     },
     "execution_count": 20,
     "metadata": {},
     "output_type": "execute_result"
    }
   ],
   "source": [
    "### Remove the row where group and landing page don't match\n",
    "df_clean = data_df.query('(group == \"treatment\" & landing_page != \"old_page\") | \\\n",
    "              (group == \"control\" & landing_page != \"new_page\") ')\n",
    "df_clean.shape"
   ]
  },
  {
   "cell_type": "code",
   "execution_count": 21,
   "metadata": {},
   "outputs": [
    {
     "data": {
      "text/plain": [
       "290584"
      ]
     },
     "execution_count": 21,
     "metadata": {},
     "output_type": "execute_result"
    }
   ],
   "source": [
    "#### The removal above help remove most of the redundant user. \n",
    "df_clean.user_id.nunique()"
   ]
  },
  {
   "cell_type": "code",
   "execution_count": 22,
   "metadata": {},
   "outputs": [
    {
     "data": {
      "text/plain": [
       "773192    2\n",
       "851104    1\n",
       "688307    1\n",
       "718297    1\n",
       "838144    1\n",
       "         ..\n",
       "755610    1\n",
       "804629    1\n",
       "837875    1\n",
       "889019    1\n",
       "715931    1\n",
       "Name: user_id, Length: 290584, dtype: int64"
      ]
     },
     "execution_count": 22,
     "metadata": {},
     "output_type": "execute_result"
    }
   ],
   "source": [
    "### Find out about the redundant user\n",
    "df_clean.user_id.value_counts()"
   ]
  },
  {
   "cell_type": "code",
   "execution_count": 23,
   "metadata": {},
   "outputs": [
    {
     "data": {
      "text/html": [
       "<div>\n",
       "<style scoped>\n",
       "    .dataframe tbody tr th:only-of-type {\n",
       "        vertical-align: middle;\n",
       "    }\n",
       "\n",
       "    .dataframe tbody tr th {\n",
       "        vertical-align: top;\n",
       "    }\n",
       "\n",
       "    .dataframe thead th {\n",
       "        text-align: right;\n",
       "    }\n",
       "</style>\n",
       "<table border=\"1\" class=\"dataframe\">\n",
       "  <thead>\n",
       "    <tr style=\"text-align: right;\">\n",
       "      <th></th>\n",
       "      <th>user_id</th>\n",
       "      <th>timestamp</th>\n",
       "      <th>group</th>\n",
       "      <th>landing_page</th>\n",
       "      <th>converted</th>\n",
       "    </tr>\n",
       "  </thead>\n",
       "  <tbody>\n",
       "    <tr>\n",
       "      <th>1899</th>\n",
       "      <td>773192</td>\n",
       "      <td>2017-01-09 05:37:58.781806</td>\n",
       "      <td>treatment</td>\n",
       "      <td>new_page</td>\n",
       "      <td>0</td>\n",
       "    </tr>\n",
       "    <tr>\n",
       "      <th>2893</th>\n",
       "      <td>773192</td>\n",
       "      <td>2017-01-14 02:55:59.590927</td>\n",
       "      <td>treatment</td>\n",
       "      <td>new_page</td>\n",
       "      <td>0</td>\n",
       "    </tr>\n",
       "  </tbody>\n",
       "</table>\n",
       "</div>"
      ],
      "text/plain": [
       "      user_id                   timestamp      group landing_page  converted\n",
       "1899   773192  2017-01-09 05:37:58.781806  treatment     new_page          0\n",
       "2893   773192  2017-01-14 02:55:59.590927  treatment     new_page          0"
      ]
     },
     "execution_count": 23,
     "metadata": {},
     "output_type": "execute_result"
    }
   ],
   "source": [
    "df_clean.query('user_id == 773192')"
   ]
  },
  {
   "cell_type": "code",
   "execution_count": 24,
   "metadata": {},
   "outputs": [
    {
     "data": {
      "text/html": [
       "<div>\n",
       "<style scoped>\n",
       "    .dataframe tbody tr th:only-of-type {\n",
       "        vertical-align: middle;\n",
       "    }\n",
       "\n",
       "    .dataframe tbody tr th {\n",
       "        vertical-align: top;\n",
       "    }\n",
       "\n",
       "    .dataframe thead th {\n",
       "        text-align: right;\n",
       "    }\n",
       "</style>\n",
       "<table border=\"1\" class=\"dataframe\">\n",
       "  <thead>\n",
       "    <tr style=\"text-align: right;\">\n",
       "      <th></th>\n",
       "      <th>user_id</th>\n",
       "      <th>timestamp</th>\n",
       "      <th>group</th>\n",
       "      <th>landing_page</th>\n",
       "      <th>converted</th>\n",
       "    </tr>\n",
       "  </thead>\n",
       "  <tbody>\n",
       "    <tr>\n",
       "      <th>1899</th>\n",
       "      <td>773192</td>\n",
       "      <td>2017-01-09 05:37:58.781806</td>\n",
       "      <td>treatment</td>\n",
       "      <td>new_page</td>\n",
       "      <td>0</td>\n",
       "    </tr>\n",
       "  </tbody>\n",
       "</table>\n",
       "</div>"
      ],
      "text/plain": [
       "      user_id                   timestamp      group landing_page  converted\n",
       "1899   773192  2017-01-09 05:37:58.781806  treatment     new_page          0"
      ]
     },
     "execution_count": 24,
     "metadata": {},
     "output_type": "execute_result"
    }
   ],
   "source": [
    "### User_id the same, just different in timestamp => could use, remove 1 line\n",
    "df_clean = df_clean.drop(2893)\n",
    "# Verify the drop\n",
    "df_clean.query('user_id == 773192')"
   ]
  },
  {
   "cell_type": "markdown",
   "metadata": {},
   "source": [
    "### 2.2.2. CHECKING INVARIANTS\n",
    "\n",
    "OVERALL\n",
    "\n",
    "Is the difference in the number of user within expectation?\n",
    "\n",
    "Given: Each user_id is randomly assigned to the control or experiment group with probability of 0.5. Steps to check whether the observed fraction is within the confidence interval:\n",
    "\n",
    "Step 1. Compute standard deviation of binomial with probability 0.5 of success:\n",
    "\n",
    "SD = np.sqrt(0.5*(1-0.5)/(n_c + n_t))\n",
    "\n",
    "Step 2. Multiply by Z-score to get margin of error\n",
    "\n",
    "m = SD * 1.96 (Z-score at siginificant level of 0.05)\n",
    "\n",
    "Step 3. Compute confidence interaval around 0.5: 0.5 +/- m\n",
    "\n",
    "Step 4. Check whether the observed fraction is within the confidence interval"
   ]
  },
  {
   "cell_type": "code",
   "execution_count": 26,
   "metadata": {},
   "outputs": [
    {
     "name": "stdout",
     "output_type": "stream",
     "text": [
      "Control: 145274 , Treatment: 145310 , Control ratio: 0.50\n"
     ]
    }
   ],
   "source": [
    "#### The number of users in the control group\n",
    "n_c = df_clean.query('group == \"control\"').user_id.nunique()\n",
    "#### The number of users in the treatment group\n",
    "n_t = df_clean.query('group == \"treatment\"').user_id.nunique()\n",
    "c_ratio = n_c/(n_c + n_t)\n",
    "print(\"Control: {} , Treatment: {} , Control ratio: {:.2f}\".format(n_c, n_t, c_ratio))"
   ]
  },
  {
   "cell_type": "code",
   "execution_count": 29,
   "metadata": {},
   "outputs": [
    {
     "name": "stdout",
     "output_type": "stream",
     "text": [
      "Standard deviation: {:.4f} 0.0009275432205326099\n",
      "Margin of error: {:.4f} 0.0018179847122439155\n",
      "Confidence interval around 0.5: 0.4982 ~ 0.5018\n",
      "The observed fraction 0.4999 is within the confidence interval (0.4982 ~ 0.5018)\n"
     ]
    }
   ],
   "source": [
    "### Step 1. Compute standard error binomial with probability 0.5 of success\n",
    "# This is also called the standard deviation of the sampling distribution for the proportion:\n",
    "SE = np.sqrt(0.5*(1-0.5)/(n_c + n_t))\n",
    "print(\"Standard deviation: {:.4f}\", SE)\n",
    "### Step 2. Multiply by Z-score to get margin of error\n",
    "m = SE * 1.96 #(Z-score at siginificant level of 0.05)\n",
    "print(\"Margin of error: {:.4f}\", m)\n",
    "### Step 3. Compute confidence interval around 0.5: 0.5 +/- m\n",
    "print(\"Confidence interval around 0.5: {:.4f} ~ {:.4f}\".format(0.5 - m, 0.5 + m))\n",
    "### Step 4. Check whether the observed fraction is within the confidence interval\n",
    "if c_ratio >= (0.5 - m) and  c_ratio <= (0.5 + m):\n",
    "    print(\"The observed fraction {:.4f} is within the confidence interval ({:.4f} ~ {:.4f})\"\\\n",
    "          .format(c_ratio, 0.5 - m, 0.5 + m))\n",
    "else:\n",
    "    print(\"The observed fraction {:.4f} is NOT within the confidence interval ({:.4f} ~ {:.4f})\"\\\n",
    "          .format(c_ratio, 0.5 - m, 0.5 + m))"
   ]
  },
  {
   "cell_type": "markdown",
   "metadata": {},
   "source": [
    "#### DAY BY DAY INSIGHTS"
   ]
  },
  {
   "cell_type": "code",
   "execution_count": 30,
   "metadata": {},
   "outputs": [
    {
     "name": "stdout",
     "output_type": "stream",
     "text": [
      "Start day:  2017-01-02 13:42:05.378582\n",
      "End day:  2017-01-24 13:41:54.460509\n"
     ]
    }
   ],
   "source": [
    "print(\"Start day: \", min(data_df.timestamp))\n",
    "print(\"End day: \", max(data_df.timestamp))\n"
   ]
  },
  {
   "cell_type": "code",
   "execution_count": 31,
   "metadata": {},
   "outputs": [
    {
     "data": {
      "text/html": [
       "<div>\n",
       "<style scoped>\n",
       "    .dataframe tbody tr th:only-of-type {\n",
       "        vertical-align: middle;\n",
       "    }\n",
       "\n",
       "    .dataframe tbody tr th {\n",
       "        vertical-align: top;\n",
       "    }\n",
       "\n",
       "    .dataframe thead th {\n",
       "        text-align: right;\n",
       "    }\n",
       "</style>\n",
       "<table border=\"1\" class=\"dataframe\">\n",
       "  <thead>\n",
       "    <tr style=\"text-align: right;\">\n",
       "      <th></th>\n",
       "      <th>user_id</th>\n",
       "      <th>timestamp</th>\n",
       "      <th>group</th>\n",
       "      <th>landing_page</th>\n",
       "      <th>converted</th>\n",
       "      <th>date</th>\n",
       "    </tr>\n",
       "  </thead>\n",
       "  <tbody>\n",
       "    <tr>\n",
       "      <th>184831</th>\n",
       "      <td>929659</td>\n",
       "      <td>2017-01-02 14:41:58.848698</td>\n",
       "      <td>treatment</td>\n",
       "      <td>new_page</td>\n",
       "      <td>0</td>\n",
       "      <td>2017-01-02</td>\n",
       "    </tr>\n",
       "    <tr>\n",
       "      <th>148281</th>\n",
       "      <td>779581</td>\n",
       "      <td>2017-01-02 16:31:51.186604</td>\n",
       "      <td>control</td>\n",
       "      <td>old_page</td>\n",
       "      <td>0</td>\n",
       "      <td>2017-01-02</td>\n",
       "    </tr>\n",
       "    <tr>\n",
       "      <th>248721</th>\n",
       "      <td>740003</td>\n",
       "      <td>2017-01-02 17:11:05.168172</td>\n",
       "      <td>control</td>\n",
       "      <td>old_page</td>\n",
       "      <td>1</td>\n",
       "      <td>2017-01-02</td>\n",
       "    </tr>\n",
       "    <tr>\n",
       "      <th>248722</th>\n",
       "      <td>823601</td>\n",
       "      <td>2017-01-02 23:41:20.188398</td>\n",
       "      <td>treatment</td>\n",
       "      <td>new_page</td>\n",
       "      <td>0</td>\n",
       "      <td>2017-01-02</td>\n",
       "    </tr>\n",
       "    <tr>\n",
       "      <th>77133</th>\n",
       "      <td>845187</td>\n",
       "      <td>2017-01-02 18:13:49.064532</td>\n",
       "      <td>treatment</td>\n",
       "      <td>new_page</td>\n",
       "      <td>0</td>\n",
       "      <td>2017-01-02</td>\n",
       "    </tr>\n",
       "  </tbody>\n",
       "</table>\n",
       "</div>"
      ],
      "text/plain": [
       "        user_id                   timestamp      group landing_page  \\\n",
       "184831   929659  2017-01-02 14:41:58.848698  treatment     new_page   \n",
       "148281   779581  2017-01-02 16:31:51.186604    control     old_page   \n",
       "248721   740003  2017-01-02 17:11:05.168172    control     old_page   \n",
       "248722   823601  2017-01-02 23:41:20.188398  treatment     new_page   \n",
       "77133    845187  2017-01-02 18:13:49.064532  treatment     new_page   \n",
       "\n",
       "        converted        date  \n",
       "184831          0  2017-01-02  \n",
       "148281          0  2017-01-02  \n",
       "248721          1  2017-01-02  \n",
       "248722          0  2017-01-02  \n",
       "77133           0  2017-01-02  "
      ]
     },
     "execution_count": 31,
     "metadata": {},
     "output_type": "execute_result"
    }
   ],
   "source": [
    "df_clean['date'] = pd.to_datetime(df_clean['timestamp']).dt.date\n",
    "df_clean = df_clean.sort_values(by ='date')\n",
    "df_clean.head(5)"
   ]
  },
  {
   "cell_type": "code",
   "execution_count": 32,
   "metadata": {},
   "outputs": [
    {
     "data": {
      "image/png": "[encoded data removed]",
      "text/plain": [
       "<Figure size 1440x288 with 1 Axes>"
      ]
     },
     "metadata": {
      "needs_background": "light"
     },
     "output_type": "display_data"
    }
   ],
   "source": [
    "### Visualization\n",
    "plt.figure(figsize = (20,4))\n",
    "sns.countplot(data = df_clean, x = 'date', hue = 'group')\n",
    "plt.xticks(rotation = 45)\n",
    "plt.title('Distribution of treatment/control group by different days')\n",
    "plt.show()"
   ]
  },
  {
   "cell_type": "markdown",
   "metadata": {},
   "source": [
    "Only the first day and last day have half number of sample because the feature was launched only half day."
   ]
  },
  {
   "cell_type": "code",
   "execution_count": 33,
   "metadata": {},
   "outputs": [
    {
     "data": {
      "text/html": [
       "<div>\n",
       "<style scoped>\n",
       "    .dataframe tbody tr th:only-of-type {\n",
       "        vertical-align: middle;\n",
       "    }\n",
       "\n",
       "    .dataframe tbody tr th {\n",
       "        vertical-align: top;\n",
       "    }\n",
       "\n",
       "    .dataframe thead th {\n",
       "        text-align: right;\n",
       "    }\n",
       "</style>\n",
       "<table border=\"1\" class=\"dataframe\">\n",
       "  <thead>\n",
       "    <tr style=\"text-align: right;\">\n",
       "      <th></th>\n",
       "      <th>date</th>\n",
       "      <th>control</th>\n",
       "      <th>treatment</th>\n",
       "      <th>control_ratio</th>\n",
       "    </tr>\n",
       "  </thead>\n",
       "  <tbody>\n",
       "    <tr>\n",
       "      <th>0</th>\n",
       "      <td>2017-01-02</td>\n",
       "      <td>2859</td>\n",
       "      <td>2853</td>\n",
       "      <td>0.500525</td>\n",
       "    </tr>\n",
       "    <tr>\n",
       "      <th>1</th>\n",
       "      <td>2017-01-03</td>\n",
       "      <td>6590</td>\n",
       "      <td>6618</td>\n",
       "      <td>0.498940</td>\n",
       "    </tr>\n",
       "    <tr>\n",
       "      <th>2</th>\n",
       "      <td>2017-01-04</td>\n",
       "      <td>6578</td>\n",
       "      <td>6541</td>\n",
       "      <td>0.501410</td>\n",
       "    </tr>\n",
       "    <tr>\n",
       "      <th>3</th>\n",
       "      <td>2017-01-05</td>\n",
       "      <td>6427</td>\n",
       "      <td>6505</td>\n",
       "      <td>0.496984</td>\n",
       "    </tr>\n",
       "    <tr>\n",
       "      <th>4</th>\n",
       "      <td>2017-01-06</td>\n",
       "      <td>6606</td>\n",
       "      <td>6747</td>\n",
       "      <td>0.494720</td>\n",
       "    </tr>\n",
       "    <tr>\n",
       "      <th>5</th>\n",
       "      <td>2017-01-07</td>\n",
       "      <td>6604</td>\n",
       "      <td>6609</td>\n",
       "      <td>0.499811</td>\n",
       "    </tr>\n",
       "    <tr>\n",
       "      <th>6</th>\n",
       "      <td>2017-01-08</td>\n",
       "      <td>6687</td>\n",
       "      <td>6700</td>\n",
       "      <td>0.499514</td>\n",
       "    </tr>\n",
       "    <tr>\n",
       "      <th>7</th>\n",
       "      <td>2017-01-09</td>\n",
       "      <td>6628</td>\n",
       "      <td>6615</td>\n",
       "      <td>0.500491</td>\n",
       "    </tr>\n",
       "    <tr>\n",
       "      <th>8</th>\n",
       "      <td>2017-01-10</td>\n",
       "      <td>6654</td>\n",
       "      <td>6696</td>\n",
       "      <td>0.498427</td>\n",
       "    </tr>\n",
       "    <tr>\n",
       "      <th>9</th>\n",
       "      <td>2017-01-11</td>\n",
       "      <td>6688</td>\n",
       "      <td>6673</td>\n",
       "      <td>0.500561</td>\n",
       "    </tr>\n",
       "    <tr>\n",
       "      <th>10</th>\n",
       "      <td>2017-01-12</td>\n",
       "      <td>6522</td>\n",
       "      <td>6637</td>\n",
       "      <td>0.495630</td>\n",
       "    </tr>\n",
       "    <tr>\n",
       "      <th>11</th>\n",
       "      <td>2017-01-13</td>\n",
       "      <td>6552</td>\n",
       "      <td>6508</td>\n",
       "      <td>0.501685</td>\n",
       "    </tr>\n",
       "    <tr>\n",
       "      <th>12</th>\n",
       "      <td>2017-01-14</td>\n",
       "      <td>6548</td>\n",
       "      <td>6599</td>\n",
       "      <td>0.498060</td>\n",
       "    </tr>\n",
       "    <tr>\n",
       "      <th>13</th>\n",
       "      <td>2017-01-15</td>\n",
       "      <td>6714</td>\n",
       "      <td>6549</td>\n",
       "      <td>0.506220</td>\n",
       "    </tr>\n",
       "    <tr>\n",
       "      <th>14</th>\n",
       "      <td>2017-01-16</td>\n",
       "      <td>6591</td>\n",
       "      <td>6545</td>\n",
       "      <td>0.501751</td>\n",
       "    </tr>\n",
       "    <tr>\n",
       "      <th>15</th>\n",
       "      <td>2017-01-17</td>\n",
       "      <td>6617</td>\n",
       "      <td>6538</td>\n",
       "      <td>0.503003</td>\n",
       "    </tr>\n",
       "    <tr>\n",
       "      <th>16</th>\n",
       "      <td>2017-01-18</td>\n",
       "      <td>6482</td>\n",
       "      <td>6603</td>\n",
       "      <td>0.495376</td>\n",
       "    </tr>\n",
       "    <tr>\n",
       "      <th>17</th>\n",
       "      <td>2017-01-19</td>\n",
       "      <td>6578</td>\n",
       "      <td>6552</td>\n",
       "      <td>0.500990</td>\n",
       "    </tr>\n",
       "    <tr>\n",
       "      <th>18</th>\n",
       "      <td>2017-01-20</td>\n",
       "      <td>6534</td>\n",
       "      <td>6679</td>\n",
       "      <td>0.494513</td>\n",
       "    </tr>\n",
       "    <tr>\n",
       "      <th>19</th>\n",
       "      <td>2017-01-21</td>\n",
       "      <td>6749</td>\n",
       "      <td>6560</td>\n",
       "      <td>0.507100</td>\n",
       "    </tr>\n",
       "    <tr>\n",
       "      <th>20</th>\n",
       "      <td>2017-01-22</td>\n",
       "      <td>6596</td>\n",
       "      <td>6669</td>\n",
       "      <td>0.497248</td>\n",
       "    </tr>\n",
       "    <tr>\n",
       "      <th>21</th>\n",
       "      <td>2017-01-23</td>\n",
       "      <td>6716</td>\n",
       "      <td>6633</td>\n",
       "      <td>0.503109</td>\n",
       "    </tr>\n",
       "    <tr>\n",
       "      <th>22</th>\n",
       "      <td>2017-01-24</td>\n",
       "      <td>3754</td>\n",
       "      <td>3681</td>\n",
       "      <td>0.504909</td>\n",
       "    </tr>\n",
       "  </tbody>\n",
       "</table>\n",
       "</div>"
      ],
      "text/plain": [
       "          date  control  treatment  control_ratio\n",
       "0   2017-01-02     2859       2853       0.500525\n",
       "1   2017-01-03     6590       6618       0.498940\n",
       "2   2017-01-04     6578       6541       0.501410\n",
       "3   2017-01-05     6427       6505       0.496984\n",
       "4   2017-01-06     6606       6747       0.494720\n",
       "5   2017-01-07     6604       6609       0.499811\n",
       "6   2017-01-08     6687       6700       0.499514\n",
       "7   2017-01-09     6628       6615       0.500491\n",
       "8   2017-01-10     6654       6696       0.498427\n",
       "9   2017-01-11     6688       6673       0.500561\n",
       "10  2017-01-12     6522       6637       0.495630\n",
       "11  2017-01-13     6552       6508       0.501685\n",
       "12  2017-01-14     6548       6599       0.498060\n",
       "13  2017-01-15     6714       6549       0.506220\n",
       "14  2017-01-16     6591       6545       0.501751\n",
       "15  2017-01-17     6617       6538       0.503003\n",
       "16  2017-01-18     6482       6603       0.495376\n",
       "17  2017-01-19     6578       6552       0.500990\n",
       "18  2017-01-20     6534       6679       0.494513\n",
       "19  2017-01-21     6749       6560       0.507100\n",
       "20  2017-01-22     6596       6669       0.497248\n",
       "21  2017-01-23     6716       6633       0.503109\n",
       "22  2017-01-24     3754       3681       0.504909"
      ]
     },
     "execution_count": 33,
     "metadata": {},
     "output_type": "execute_result"
    }
   ],
   "source": [
    "### The ratio of control/treatment in each day\n",
    "# Group by date and group\n",
    "ratio_df = df_clean.groupby(['date', 'group']).agg({'group': 'count'})\n",
    "# Pivot into 2 columns\n",
    "ratio_df = ratio_df.unstack('group')\n",
    "# Drop the level\n",
    "ratio_df = ratio_df.droplevel(0, axis = 1)\n",
    "# Reset index so that date could be a column, not an index\n",
    "ratio_df.reset_index(inplace = True)\n",
    "# Remove the name of the index\n",
    "ratio_df = ratio_df.rename_axis(None, axis=1)\n",
    "### Add the control_ratio into the dataframe\n",
    "ratio_df['control_ratio'] = ratio_df['control']/(ratio_df['control'] + ratio_df['treatment'])\n",
    "ratio_df"
   ]
  },
  {
   "cell_type": "code",
   "execution_count": 34,
   "metadata": {},
   "outputs": [
    {
     "data": {
      "image/png": "[encoded data removed]",
      "text/plain": [
       "<Figure size 432x288 with 1 Axes>"
      ]
     },
     "metadata": {
      "needs_background": "light"
     },
     "output_type": "display_data"
    }
   ],
   "source": [
    "### Plot the ratio of control group across different days\n",
    "plt.plot(ratio_df['date'], ratio_df['control_ratio'])\n",
    "plt.ylim([0.3, 0.6])\n",
    "plt.xticks(rotation = 45)\n",
    "plt.title('Distribution of treatment/control group by different days')\n",
    "plt.show()"
   ]
  },
  {
   "cell_type": "markdown",
   "metadata": {},
   "source": [
    "# 3. PROBABILITY"
   ]
  },
  {
   "cell_type": "code",
   "execution_count": 35,
   "metadata": {},
   "outputs": [
    {
     "data": {
      "image/png": "[encoded data removed]",
      "text/plain": [
       "<Figure size 432x288 with 1 Axes>"
      ]
     },
     "metadata": {
      "needs_background": "light"
     },
     "output_type": "display_data"
    }
   ],
   "source": [
    "### Plot the distribution again on the clean dataframe\n",
    "fig = sns.countplot(data = df_clean, x = 'group', hue = 'converted')\n",
    "### Adding label:\n",
    "for p in fig.patches:\n",
    "    if str(p.get_height()) != 'nan':\n",
    "        fig.text(p.get_x() + 0.08,  \n",
    "                 p.get_height() * 1.02, \n",
    "                 '{}'.format(p.get_height()),\n",
    "                size = 'large')\n",
    "plt.legend(loc = 'upper right')\n",
    "plt.ylim([0, df_clean.query('group == \"control\"').shape[0]*1.1])\n",
    "plt.title('Distribution of converted result based on group')\n",
    "plt.show()"
   ]
  },
  {
   "cell_type": "markdown",
   "metadata": {},
   "source": [
    "## Converted ratio"
   ]
  },
  {
   "cell_type": "code",
   "execution_count": 36,
   "metadata": {},
   "outputs": [
    {
     "data": {
      "text/plain": [
       "0.11959708724499628"
      ]
     },
     "execution_count": 36,
     "metadata": {},
     "output_type": "execute_result"
    }
   ],
   "source": [
    "### Overall converted_ratio\n",
    "converted_ratio = df_clean.query('converted == 1').user_id.nunique()/df_clean.user_id.nunique()\n",
    "converted_ratio"
   ]
  },
  {
   "cell_type": "code",
   "execution_count": 40,
   "metadata": {},
   "outputs": [
    {
     "data": {
      "text/plain": [
       "0.1203863045004612"
      ]
     },
     "execution_count": 40,
     "metadata": {},
     "output_type": "execute_result"
    }
   ],
   "source": [
    "# Converted_ratio on the control group\n",
    "converted_ratio_control = df_clean.query('converted == 1 & group == \"control\"').user_id.nunique()/df_clean.query('group == \"control\"').user_id.nunique()\n",
    "converted_ratio_control"
   ]
  },
  {
   "cell_type": "code",
   "execution_count": 41,
   "metadata": {},
   "outputs": [
    {
     "data": {
      "text/plain": [
       "0.11880806551510564"
      ]
     },
     "execution_count": 41,
     "metadata": {},
     "output_type": "execute_result"
    }
   ],
   "source": [
    "# Converted_ratio on the treament group\n",
    "converted_ratio_treatment = df_clean.query('converted == 1 & group == \"treatment\"').user_id.nunique()/df_clean.query('group == \"treatment\"').user_id.nunique()\n",
    "converted_ratio_treatment"
   ]
  },
  {
   "cell_type": "markdown",
   "metadata": {},
   "source": [
    "The probability that an individual received the new page"
   ]
  },
  {
   "cell_type": "code",
   "execution_count": 42,
   "metadata": {},
   "outputs": [
    {
     "data": {
      "text/plain": [
       "0.5000619442226688"
      ]
     },
     "execution_count": 42,
     "metadata": {},
     "output_type": "execute_result"
    }
   ],
   "source": [
    "newpage_prob = df_clean.query('landing_page == \"new_page\"').user_id.nunique()\\\n",
    "                /df_clean.user_id.nunique()\n",
    "newpage_prob"
   ]
  },
  {
   "cell_type": "markdown",
   "metadata": {},
   "source": [
    "To conclude:\n",
    "Probability of converting regardless of page: 0.1196.\n",
    "\n",
    "The probability users converted in\n",
    "\n",
    "Control group (old page): 0.1204\n",
    "Treatment group (new page): 0.1188\n",
    "- These 2 numbers are quite equal. Regarding the fact that the proportion of users received the new page versus the old page are approximately the same (50%), there is unsufficient evidence to conclude that the new treatment page leads to more conversions.\n",
    "\n",
    "=> We need hypothesis testing as evidence to conclude whether the new treatment page leads to more conversions or not"
   ]
  },
  {
   "cell_type": "markdown",
   "metadata": {},
   "source": [
    "# 4. A/B TEST\n",
    "Assume that the old page is better unless the new page proves to be definitely better at a Type I error rate of 5%."
   ]
  },
  {
   "cell_type": "markdown",
   "metadata": {},
   "source": [
    "## 4.1. A/B TEST - PROPORTION Z-TEST\n",
    "One-tailed test"
   ]
  },
  {
   "cell_type": "code",
   "execution_count": 44,
   "metadata": {},
   "outputs": [],
   "source": [
    "import statsmodels.api as sm"
   ]
  },
  {
   "cell_type": "code",
   "execution_count": 45,
   "metadata": {},
   "outputs": [
    {
     "data": {
      "text/plain": [
       "(17489, 17264, 145274, 145310)"
      ]
     },
     "execution_count": 45,
     "metadata": {},
     "output_type": "execute_result"
    }
   ],
   "source": [
    "convert_c = df_clean.query('landing_page == \"old_page\" & converted == 1').shape[0]\n",
    "convert_t = df_clean.query('landing_page == \"new_page\" & converted == 1').shape[0]\n",
    "n_c = df_clean.query('landing_page == \"old_page\"').shape[0]\n",
    "n_t = df_clean.query('landing_page == \"new_page\"').shape[0]\n",
    "convert_c, convert_t, n_c, n_t"
   ]
  },
  {
   "cell_type": "code",
   "execution_count": 46,
   "metadata": {},
   "outputs": [
    {
     "data": {
      "text/plain": [
       "(-1.3109241984234394, 0.9050583127590245)"
      ]
     },
     "execution_count": 46,
     "metadata": {},
     "output_type": "execute_result"
    }
   ],
   "source": [
    "count = np.array([convert_t, convert_c])\n",
    "nobs = np.array([n_t, n_c])\n",
    "stat, pval = sm.stats.proportions_ztest(count, nobs, alternative = \"larger\")\n",
    "stat, pval "
   ]
  },
  {
   "cell_type": "markdown",
   "metadata": {},
   "source": [
    "The z-score = -1.311 and p-value = 0.905\n",
    "=> No evidence to reject the null hypothesis"
   ]
  },
  {
   "cell_type": "markdown",
   "metadata": {},
   "source": [
    "## 4.2. A/B TEST - LOGISTIC REGRESSION"
   ]
  },
  {
   "cell_type": "markdown",
   "metadata": {},
   "source": [
    "### STEP 1: Create the intercept and the dummy variable"
   ]
  },
  {
   "cell_type": "code",
   "execution_count": 47,
   "metadata": {},
   "outputs": [],
   "source": [
    "### Assign the intercept = 1\n",
    "df2 = df_clean.copy()\n",
    "df2['intercept'] = 1"
   ]
  },
  {
   "cell_type": "code",
   "execution_count": 48,
   "metadata": {},
   "outputs": [
    {
     "data": {
      "text/html": [
       "<div>\n",
       "<style scoped>\n",
       "    .dataframe tbody tr th:only-of-type {\n",
       "        vertical-align: middle;\n",
       "    }\n",
       "\n",
       "    .dataframe tbody tr th {\n",
       "        vertical-align: top;\n",
       "    }\n",
       "\n",
       "    .dataframe thead th {\n",
       "        text-align: right;\n",
       "    }\n",
       "</style>\n",
       "<table border=\"1\" class=\"dataframe\">\n",
       "  <thead>\n",
       "    <tr style=\"text-align: right;\">\n",
       "      <th></th>\n",
       "      <th>user_id</th>\n",
       "      <th>timestamp</th>\n",
       "      <th>group</th>\n",
       "      <th>landing_page</th>\n",
       "      <th>converted</th>\n",
       "      <th>date</th>\n",
       "      <th>intercept</th>\n",
       "      <th>ab_page</th>\n",
       "    </tr>\n",
       "  </thead>\n",
       "  <tbody>\n",
       "    <tr>\n",
       "      <th>184831</th>\n",
       "      <td>929659</td>\n",
       "      <td>2017-01-02 14:41:58.848698</td>\n",
       "      <td>treatment</td>\n",
       "      <td>new_page</td>\n",
       "      <td>0</td>\n",
       "      <td>2017-01-02</td>\n",
       "      <td>1</td>\n",
       "      <td>1</td>\n",
       "    </tr>\n",
       "    <tr>\n",
       "      <th>148281</th>\n",
       "      <td>779581</td>\n",
       "      <td>2017-01-02 16:31:51.186604</td>\n",
       "      <td>control</td>\n",
       "      <td>old_page</td>\n",
       "      <td>0</td>\n",
       "      <td>2017-01-02</td>\n",
       "      <td>1</td>\n",
       "      <td>0</td>\n",
       "    </tr>\n",
       "    <tr>\n",
       "      <th>248721</th>\n",
       "      <td>740003</td>\n",
       "      <td>2017-01-02 17:11:05.168172</td>\n",
       "      <td>control</td>\n",
       "      <td>old_page</td>\n",
       "      <td>1</td>\n",
       "      <td>2017-01-02</td>\n",
       "      <td>1</td>\n",
       "      <td>0</td>\n",
       "    </tr>\n",
       "    <tr>\n",
       "      <th>248722</th>\n",
       "      <td>823601</td>\n",
       "      <td>2017-01-02 23:41:20.188398</td>\n",
       "      <td>treatment</td>\n",
       "      <td>new_page</td>\n",
       "      <td>0</td>\n",
       "      <td>2017-01-02</td>\n",
       "      <td>1</td>\n",
       "      <td>1</td>\n",
       "    </tr>\n",
       "    <tr>\n",
       "      <th>77133</th>\n",
       "      <td>845187</td>\n",
       "      <td>2017-01-02 18:13:49.064532</td>\n",
       "      <td>treatment</td>\n",
       "      <td>new_page</td>\n",
       "      <td>0</td>\n",
       "      <td>2017-01-02</td>\n",
       "      <td>1</td>\n",
       "      <td>1</td>\n",
       "    </tr>\n",
       "    <tr>\n",
       "      <th>...</th>\n",
       "      <td>...</td>\n",
       "      <td>...</td>\n",
       "      <td>...</td>\n",
       "      <td>...</td>\n",
       "      <td>...</td>\n",
       "      <td>...</td>\n",
       "      <td>...</td>\n",
       "      <td>...</td>\n",
       "    </tr>\n",
       "    <tr>\n",
       "      <th>163981</th>\n",
       "      <td>873720</td>\n",
       "      <td>2017-01-24 04:48:42.491365</td>\n",
       "      <td>treatment</td>\n",
       "      <td>new_page</td>\n",
       "      <td>0</td>\n",
       "      <td>2017-01-24</td>\n",
       "      <td>1</td>\n",
       "      <td>1</td>\n",
       "    </tr>\n",
       "    <tr>\n",
       "      <th>13297</th>\n",
       "      <td>815616</td>\n",
       "      <td>2017-01-24 01:03:27.408263</td>\n",
       "      <td>treatment</td>\n",
       "      <td>new_page</td>\n",
       "      <td>1</td>\n",
       "      <td>2017-01-24</td>\n",
       "      <td>1</td>\n",
       "      <td>1</td>\n",
       "    </tr>\n",
       "    <tr>\n",
       "      <th>197151</th>\n",
       "      <td>683700</td>\n",
       "      <td>2017-01-24 03:44:04.596907</td>\n",
       "      <td>treatment</td>\n",
       "      <td>new_page</td>\n",
       "      <td>0</td>\n",
       "      <td>2017-01-24</td>\n",
       "      <td>1</td>\n",
       "      <td>1</td>\n",
       "    </tr>\n",
       "    <tr>\n",
       "      <th>110810</th>\n",
       "      <td>868284</td>\n",
       "      <td>2017-01-24 07:08:53.359276</td>\n",
       "      <td>treatment</td>\n",
       "      <td>new_page</td>\n",
       "      <td>0</td>\n",
       "      <td>2017-01-24</td>\n",
       "      <td>1</td>\n",
       "      <td>1</td>\n",
       "    </tr>\n",
       "    <tr>\n",
       "      <th>118209</th>\n",
       "      <td>889259</td>\n",
       "      <td>2017-01-24 13:30:16.242909</td>\n",
       "      <td>control</td>\n",
       "      <td>old_page</td>\n",
       "      <td>0</td>\n",
       "      <td>2017-01-24</td>\n",
       "      <td>1</td>\n",
       "      <td>0</td>\n",
       "    </tr>\n",
       "  </tbody>\n",
       "</table>\n",
       "<p>290584 rows × 8 columns</p>\n",
       "</div>"
      ],
      "text/plain": [
       "        user_id                   timestamp      group landing_page  \\\n",
       "184831   929659  2017-01-02 14:41:58.848698  treatment     new_page   \n",
       "148281   779581  2017-01-02 16:31:51.186604    control     old_page   \n",
       "248721   740003  2017-01-02 17:11:05.168172    control     old_page   \n",
       "248722   823601  2017-01-02 23:41:20.188398  treatment     new_page   \n",
       "77133    845187  2017-01-02 18:13:49.064532  treatment     new_page   \n",
       "...         ...                         ...        ...          ...   \n",
       "163981   873720  2017-01-24 04:48:42.491365  treatment     new_page   \n",
       "13297    815616  2017-01-24 01:03:27.408263  treatment     new_page   \n",
       "197151   683700  2017-01-24 03:44:04.596907  treatment     new_page   \n",
       "110810   868284  2017-01-24 07:08:53.359276  treatment     new_page   \n",
       "118209   889259  2017-01-24 13:30:16.242909    control     old_page   \n",
       "\n",
       "        converted        date  intercept  ab_page  \n",
       "184831          0  2017-01-02          1        1  \n",
       "148281          0  2017-01-02          1        0  \n",
       "248721          1  2017-01-02          1        0  \n",
       "248722          0  2017-01-02          1        1  \n",
       "77133           0  2017-01-02          1        1  \n",
       "...           ...         ...        ...      ...  \n",
       "163981          0  2017-01-24          1        1  \n",
       "13297           1  2017-01-24          1        1  \n",
       "197151          0  2017-01-24          1        1  \n",
       "110810          0  2017-01-24          1        1  \n",
       "118209          0  2017-01-24          1        0  \n",
       "\n",
       "[290584 rows x 8 columns]"
      ]
     },
     "execution_count": 48,
     "metadata": {},
     "output_type": "execute_result"
    }
   ],
   "source": [
    "### Create an dummpy variable ab_page: 0 for control, 1 for treatment\n",
    "df2['ab_page'] = df2.group.apply(lambda x: 1 if x == 'treatment' else 0)\n",
    "df2"
   ]
  },
  {
   "cell_type": "markdown",
   "metadata": {},
   "source": [
    "### STEP 2: Use statsmodels to instantiate the regression model on the two columns you created in STEP1, then fit the model to predict whether or not an individual converts."
   ]
  },
  {
   "cell_type": "code",
   "execution_count": 49,
   "metadata": {},
   "outputs": [
    {
     "name": "stdout",
     "output_type": "stream",
     "text": [
      "Optimization terminated successfully.\n",
      "         Current function value: 0.366118\n",
      "         Iterations 6\n"
     ]
    }
   ],
   "source": [
    "from scipy import stats\n",
    "stats.chisqprob = lambda chisq, df: stats.chi2.sf(chisq, df)\n",
    "\n",
    "# fit the regression model \n",
    "logit_mod = sm.Logit(df2['converted'], df2[['intercept', 'ab_page']])\n",
    "results = logit_mod.fit()"
   ]
  },
  {
   "cell_type": "markdown",
   "metadata": {},
   "source": [
    "### STEP 3: Interpret the result"
   ]
  },
  {
   "cell_type": "code",
   "execution_count": 50,
   "metadata": {},
   "outputs": [
    {
     "data": {
      "text/html": [
       "<table class=\"simpletable\">\n",
       "<caption>Logit Regression Results</caption>\n",
       "<tr>\n",
       "  <th>Dep. Variable:</th>       <td>converted</td>    <th>  No. Observations:  </th>   <td>290584</td>   \n",
       "</tr>\n",
       "<tr>\n",
       "  <th>Model:</th>                 <td>Logit</td>      <th>  Df Residuals:      </th>   <td>290582</td>   \n",
       "</tr>\n",
       "<tr>\n",
       "  <th>Method:</th>                 <td>MLE</td>       <th>  Df Model:          </th>   <td>     1</td>   \n",
       "</tr>\n",
       "<tr>\n",
       "  <th>Date:</th>            <td>Mon, 18 Apr 2022</td> <th>  Pseudo R-squ.:     </th>  <td>8.077e-06</td> \n",
       "</tr>\n",
       "<tr>\n",
       "  <th>Time:</th>                <td>10:45:39</td>     <th>  Log-Likelihood:    </th> <td>-1.0639e+05</td>\n",
       "</tr>\n",
       "<tr>\n",
       "  <th>converged:</th>             <td>True</td>       <th>  LL-Null:           </th> <td>-1.0639e+05</td>\n",
       "</tr>\n",
       "<tr>\n",
       "  <th>Covariance Type:</th>     <td>nonrobust</td>    <th>  LLR p-value:       </th>   <td>0.1899</td>   \n",
       "</tr>\n",
       "</table>\n",
       "<table class=\"simpletable\">\n",
       "<tr>\n",
       "      <td></td>         <th>coef</th>     <th>std err</th>      <th>z</th>      <th>P>|z|</th>  <th>[0.025</th>    <th>0.975]</th>  \n",
       "</tr>\n",
       "<tr>\n",
       "  <th>intercept</th> <td>   -1.9888</td> <td>    0.008</td> <td> -246.669</td> <td> 0.000</td> <td>   -2.005</td> <td>   -1.973</td>\n",
       "</tr>\n",
       "<tr>\n",
       "  <th>ab_page</th>   <td>   -0.0150</td> <td>    0.011</td> <td>   -1.311</td> <td> 0.190</td> <td>   -0.037</td> <td>    0.007</td>\n",
       "</tr>\n",
       "</table>"
      ],
      "text/plain": [
       "<class 'statsmodels.iolib.summary.Summary'>\n",
       "\"\"\"\n",
       "                           Logit Regression Results                           \n",
       "==============================================================================\n",
       "Dep. Variable:              converted   No. Observations:               290584\n",
       "Model:                          Logit   Df Residuals:                   290582\n",
       "Method:                           MLE   Df Model:                            1\n",
       "Date:                Mon, 18 Apr 2022   Pseudo R-squ.:               8.077e-06\n",
       "Time:                        10:45:39   Log-Likelihood:            -1.0639e+05\n",
       "converged:                       True   LL-Null:                   -1.0639e+05\n",
       "Covariance Type:            nonrobust   LLR p-value:                    0.1899\n",
       "==============================================================================\n",
       "                 coef    std err          z      P>|z|      [0.025      0.975]\n",
       "------------------------------------------------------------------------------\n",
       "intercept     -1.9888      0.008   -246.669      0.000      -2.005      -1.973\n",
       "ab_page       -0.0150      0.011     -1.311      0.190      -0.037       0.007\n",
       "==============================================================================\n",
       "\"\"\""
      ]
     },
     "execution_count": 50,
     "metadata": {},
     "output_type": "execute_result"
    }
   ],
   "source": [
    "results.summary()"
   ]
  },
  {
   "cell_type": "markdown",
   "metadata": {},
   "source": [
    "Null hypothesis of the logistic regression: There is no relationship between the X variable - the page an user receives and the Y variable (the conversion rates).\n",
    "\n",
    "The alternative hypothesis: the page an user receives affects the conversion rates."
   ]
  },
  {
   "cell_type": "code",
   "execution_count": 51,
   "metadata": {},
   "outputs": [
    {
     "data": {
      "text/plain": [
       "1.015113064615719"
      ]
     },
     "execution_count": 51,
     "metadata": {},
     "output_type": "execute_result"
    }
   ],
   "source": [
    "### Interpret Results:\n",
    "ab_page_coef = -0.0150\n",
    "1/np.exp(ab_page_coef) #Use 1/np.exp() for negative coef value"
   ]
  },
  {
   "cell_type": "markdown",
   "metadata": {},
   "source": [
    "If 1 unit decrease in the X variable (shift from 1 to 0 in the dummies variable - the page an user receives change from new page to old page), the conversion rates will be increase 1 unit.\n",
    "\n",
    "p-value = 0.190: The ab_page variable is not statistically significant for predicting the conversion rates. In other words, there is no significant difference in conversion based on which page an user receives.\n",
    "\n",
    "Since this current variable just show which page the customer views/receives, we cannot gain insights into the reasons that customer want to convert. Including other variables into the model may be good to predict whether the individual converts. Other variables such as:\n",
    "\n",
    "Number of visit the page (views)\n",
    "Duration of viewing the page\n",
    "The days (weekday, weekend) to visit the page\n",
    "The season/holidays that may affect customer interest\n",
    "The time of day (morning/afternoon/night)\n",
    "The region the customers live in.\n",
    "The age range, gender group.\n",
    "Disadvantages to adding additional features:\n",
    "\n",
    "There may be variance inflation factors and multicollinearity that may impact the model coefficients.\n",
    "Multiple features will make the result interpretation more complicated."
   ]
  }
 ],
 "metadata": {
  "interpreter": {
   "hash": "b89b5cfaba6639976dc87ff2fec6d58faec662063367e2c229c520fe71072417"
  },
  "kernelspec": {
   "display_name": "Python 3.10.3 64-bit",
   "language": "python",
   "name": "python3"
  },
  "language_info": {
   "codemirror_mode": {
    "name": "ipython",
    "version": 3
   },
   "file_extension": ".py",
   "mimetype": "text/x-python",
   "name": "python",
   "nbconvert_exporter": "python",
   "pygments_lexer": "ipython3",
   "version": "3.10.3"
  },
  "orig_nbformat": 4
 },
 "nbformat": 4,
 "nbformat_minor": 2
}
